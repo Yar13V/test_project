{
 "cells": [
  {
   "cell_type": "markdown",
   "id": "937e5d3a",
   "metadata": {},
   "source": [
    "# Первое задание\n",
    "### Описание даннных\n",
    "- localUserId — идентификатор пользователя (уникальный браузер)  \n",
    "- cmUserId  идентификатор зарегестрированного пользователя (уникальный аккаунт)  \n",
    "- dateTime — дата события\n",
    "- utm_campaign — название кампании \n",
    "- utm_source — источник трафика \n",
    "- utm_medium — название типа кампании \n",
    "- initReferrer - сайт, с которого пользователь совершил переход на profeat.site\n",
    "- os — операционная система пользователя \n",
    "- browser — браузер пользователя \n",
    "- blockid — уникальный идентификатор блока, из которых состоит сайт, с которым произошло событие; тип блока содержится в названии события\n",
    "- event — произошедшее событие\n",
    "\n",
    "Приходит к вам продакт   и говорит: “Теперь мы будем работать над активацией пользователей! Для этого мне нужен борд с основной воронкой продукта: от попадания  пользователя на лендинг до оплаты. Он будет мне нужен, чтобы смотреть основные конверсии продукта, основные этапы такие: \n",
    "1. Переход на лэндинг\n",
    "2. Регистрация \n",
    "3. Добавление первого блока \n",
    "4. Попытка оплаты\n",
    "5. Покупка платного тарифа \n",
    "Фильтры нужны по датам, по операционной системе и... почему-нибудь еще, посмотри, может быть там будет что-то полезное”. После чего он говорит, что у него интервью с пользователями и убегает.  "
   ]
  },
  {
   "cell_type": "markdown",
   "id": "3871951a",
   "metadata": {},
   "source": [
    "## Первый взгляд на данные"
   ]
  },
  {
   "cell_type": "code",
   "execution_count": 1,
   "id": "bec54bf6",
   "metadata": {},
   "outputs": [],
   "source": [
    "import pandas as pd\n",
    "import numpy as np\n",
    "from datetime import datetime, timedelta\n",
    "import re"
   ]
  },
  {
   "cell_type": "code",
   "execution_count": 2,
   "id": "8ed4c1c6",
   "metadata": {},
   "outputs": [],
   "source": [
    "df = pd.read_csv('C:\\\\Users\\\\admin\\\\Documents\\\\Project Python\\\\WAzzUP test\\\\profeat-data-for-assignment.csv')"
   ]
  },
  {
   "cell_type": "code",
   "execution_count": 3,
   "id": "dcfbe239",
   "metadata": {
    "scrolled": false
   },
   "outputs": [
    {
     "data": {
      "text/html": [
       "<div>\n",
       "<style scoped>\n",
       "    .dataframe tbody tr th:only-of-type {\n",
       "        vertical-align: middle;\n",
       "    }\n",
       "\n",
       "    .dataframe tbody tr th {\n",
       "        vertical-align: top;\n",
       "    }\n",
       "\n",
       "    .dataframe thead th {\n",
       "        text-align: right;\n",
       "    }\n",
       "</style>\n",
       "<table border=\"1\" class=\"dataframe\">\n",
       "  <thead>\n",
       "    <tr style=\"text-align: right;\">\n",
       "      <th></th>\n",
       "      <th>localUserId</th>\n",
       "      <th>cmUserId</th>\n",
       "      <th>dateTime</th>\n",
       "      <th>utm_source</th>\n",
       "      <th>utm_medium</th>\n",
       "      <th>utm_campaign</th>\n",
       "      <th>initReferrer</th>\n",
       "      <th>browser</th>\n",
       "      <th>os</th>\n",
       "      <th>event</th>\n",
       "      <th>blockid</th>\n",
       "    </tr>\n",
       "  </thead>\n",
       "  <tbody>\n",
       "    <tr>\n",
       "      <th>0</th>\n",
       "      <td>3f2fa233-444b-4e87-a5c4-0277499c4be4</td>\n",
       "      <td>NaN</td>\n",
       "      <td>2022-04-15 15:26:13.049 UTC</td>\n",
       "      <td>NaN</td>\n",
       "      <td>NaN</td>\n",
       "      <td>NaN</td>\n",
       "      <td>NaN</td>\n",
       "      <td>NaN</td>\n",
       "      <td>NaN</td>\n",
       "      <td>landing.unique-visit</td>\n",
       "      <td>NaN</td>\n",
       "    </tr>\n",
       "    <tr>\n",
       "      <th>1</th>\n",
       "      <td>3f2fa233-444b-4e87-a5c4-0277499c4be4</td>\n",
       "      <td>NaN</td>\n",
       "      <td>2022-04-15 00:00:00.076 UTC</td>\n",
       "      <td>NaN</td>\n",
       "      <td>NaN</td>\n",
       "      <td>NaN</td>\n",
       "      <td>NaN</td>\n",
       "      <td>Chrome</td>\n",
       "      <td>NaN</td>\n",
       "      <td>landing.unique-visit</td>\n",
       "      <td>NaN</td>\n",
       "    </tr>\n",
       "    <tr>\n",
       "      <th>2</th>\n",
       "      <td>454e934d-f554-4e19-be36-03d1ce201413</td>\n",
       "      <td>NaN</td>\n",
       "      <td>2022-04-15 11:04:56.571 UTC</td>\n",
       "      <td>NaN</td>\n",
       "      <td>NaN</td>\n",
       "      <td>NaN</td>\n",
       "      <td>NaN</td>\n",
       "      <td>Firefox</td>\n",
       "      <td>Ubuntu</td>\n",
       "      <td>landing.unique-visit</td>\n",
       "      <td>NaN</td>\n",
       "    </tr>\n",
       "    <tr>\n",
       "      <th>3</th>\n",
       "      <td>328e7e92-b284-4dfe-ab76-c6443f3d13e0</td>\n",
       "      <td>621f862dddf4bc00444bbb0c</td>\n",
       "      <td>2022-04-15 11:35:58.98 UTC</td>\n",
       "      <td>NaN</td>\n",
       "      <td>NaN</td>\n",
       "      <td>NaN</td>\n",
       "      <td>https://contact-me.info/</td>\n",
       "      <td>Firefox</td>\n",
       "      <td>Ubuntu</td>\n",
       "      <td>editor.add.click</td>\n",
       "      <td>NaN</td>\n",
       "    </tr>\n",
       "    <tr>\n",
       "      <th>4</th>\n",
       "      <td>328e7e92-b284-4dfe-ab76-c6443f3d13e0</td>\n",
       "      <td>621f862dddf4bc00444bbb0c</td>\n",
       "      <td>2022-04-15 11:36:11.811 UTC</td>\n",
       "      <td>NaN</td>\n",
       "      <td>NaN</td>\n",
       "      <td>NaN</td>\n",
       "      <td>https://contact-me.info/</td>\n",
       "      <td>Firefox</td>\n",
       "      <td>Ubuntu</td>\n",
       "      <td>editor.add.click</td>\n",
       "      <td>NaN</td>\n",
       "    </tr>\n",
       "  </tbody>\n",
       "</table>\n",
       "</div>"
      ],
      "text/plain": [
       "                            localUserId                  cmUserId  \\\n",
       "0  3f2fa233-444b-4e87-a5c4-0277499c4be4                       NaN   \n",
       "1  3f2fa233-444b-4e87-a5c4-0277499c4be4                       NaN   \n",
       "2  454e934d-f554-4e19-be36-03d1ce201413                       NaN   \n",
       "3  328e7e92-b284-4dfe-ab76-c6443f3d13e0  621f862dddf4bc00444bbb0c   \n",
       "4  328e7e92-b284-4dfe-ab76-c6443f3d13e0  621f862dddf4bc00444bbb0c   \n",
       "\n",
       "                      dateTime utm_source utm_medium utm_campaign  \\\n",
       "0  2022-04-15 15:26:13.049 UTC        NaN        NaN          NaN   \n",
       "1  2022-04-15 00:00:00.076 UTC        NaN        NaN          NaN   \n",
       "2  2022-04-15 11:04:56.571 UTC        NaN        NaN          NaN   \n",
       "3   2022-04-15 11:35:58.98 UTC        NaN        NaN          NaN   \n",
       "4  2022-04-15 11:36:11.811 UTC        NaN        NaN          NaN   \n",
       "\n",
       "               initReferrer  browser      os                 event blockid  \n",
       "0                       NaN      NaN     NaN  landing.unique-visit     NaN  \n",
       "1                       NaN   Chrome     NaN  landing.unique-visit     NaN  \n",
       "2                       NaN  Firefox  Ubuntu  landing.unique-visit     NaN  \n",
       "3  https://contact-me.info/  Firefox  Ubuntu      editor.add.click     NaN  \n",
       "4  https://contact-me.info/  Firefox  Ubuntu      editor.add.click     NaN  "
      ]
     },
     "execution_count": 3,
     "metadata": {},
     "output_type": "execute_result"
    }
   ],
   "source": [
    "df.head()"
   ]
  },
  {
   "cell_type": "code",
   "execution_count": 4,
   "id": "3754677e",
   "metadata": {
    "scrolled": false
   },
   "outputs": [
    {
     "name": "stdout",
     "output_type": "stream",
     "text": [
      "<class 'pandas.core.frame.DataFrame'>\n",
      "RangeIndex: 53958 entries, 0 to 53957\n",
      "Data columns (total 11 columns):\n",
      " #   Column        Non-Null Count  Dtype \n",
      "---  ------        --------------  ----- \n",
      " 0   localUserId   53958 non-null  object\n",
      " 1   cmUserId      40667 non-null  object\n",
      " 2   dateTime      53958 non-null  object\n",
      " 3   utm_source    40674 non-null  object\n",
      " 4   utm_medium    28137 non-null  object\n",
      " 5   utm_campaign  28147 non-null  object\n",
      " 6   initReferrer  49623 non-null  object\n",
      " 7   browser       53896 non-null  object\n",
      " 8   os            53853 non-null  object\n",
      " 9   event         53958 non-null  object\n",
      " 10  blockid       8543 non-null   object\n",
      "dtypes: object(11)\n",
      "memory usage: 4.5+ MB\n"
     ]
    }
   ],
   "source": [
    "df.info()"
   ]
  },
  {
   "cell_type": "code",
   "execution_count": 5,
   "id": "90d6144e",
   "metadata": {},
   "outputs": [],
   "source": [
    "df = df.rename(columns={'localUserId':'local_us_id',\n",
    "                'cmUserId':'reg_us_id',\n",
    "                'initReferrer':'init_referrer',\n",
    "                'dateTime':'dt'})"
   ]
  },
  {
   "cell_type": "markdown",
   "id": "0eaf1fd2",
   "metadata": {},
   "source": [
    "## Предобработка данных\n",
    "### Дата и ID"
   ]
  },
  {
   "cell_type": "code",
   "execution_count": 6,
   "id": "eea6721b",
   "metadata": {},
   "outputs": [
    {
     "data": {
      "text/plain": [
       "landing.unique-visit    7564\n",
       "register-enter          5727\n",
       "Name: event, dtype: int64"
      ]
     },
     "execution_count": 6,
     "metadata": {},
     "output_type": "execute_result"
    }
   ],
   "source": [
    "# Посмотрим к каким ивентам относятся пользователи без регистрационого id\n",
    "df[df['reg_us_id'].isna()]['event'].value_counts()"
   ]
  },
  {
   "cell_type": "markdown",
   "id": "5b7ca414",
   "metadata": {},
   "source": [
    "Это пользователи которые перешли на сайт, некторые из них начали регистрацию, но никто не закончил"
   ]
  },
  {
   "cell_type": "code",
   "execution_count": 7,
   "id": "697f4b67",
   "metadata": {
    "scrolled": true
   },
   "outputs": [
    {
     "name": "stdout",
     "output_type": "stream",
     "text": [
      "Количество зарегистрированных ID: 2422\n",
      "Количество локальных ID: 10248\n"
     ]
    }
   ],
   "source": [
    "print('Количество зарегистрированных ID:', len(df['reg_us_id'].unique()))\n",
    "print('Количество локальных ID:', len(df['local_us_id'].unique()))   "
   ]
  },
  {
   "cell_type": "code",
   "execution_count": 8,
   "id": "803592c3",
   "metadata": {},
   "outputs": [],
   "source": [
    "# Приведем колонку к нужному типу и уберем часовые пояса и микросекунды\n",
    "df['dt'] = pd.to_datetime(df['dt']).dt.tz_localize(None).apply(lambda x: x.replace(microsecond=0))\n",
    "# Создадим дополнительный столбцы с датой и временем\n",
    "df['date'] = df['dt'].dt.date\n",
    "df['time'] = df['dt'].dt.time"
   ]
  },
  {
   "cell_type": "code",
   "execution_count": 9,
   "id": "b1fde8a2",
   "metadata": {
    "scrolled": false
   },
   "outputs": [
    {
     "data": {
      "text/plain": [
       "array([nan, 'yandex', 'visitka', 'wazzup', '404', 'google', 'vk',\n",
       "       'telegram', 'mytarget', 'instagram', 'aDqCFY', 'vkontakte',\n",
       "       'yandex_poisk', 'waba'], dtype=object)"
      ]
     },
     "execution_count": 9,
     "metadata": {},
     "output_type": "execute_result"
    }
   ],
   "source": [
    "df['utm_source'].unique()"
   ]
  },
  {
   "cell_type": "markdown",
   "id": "71436ea1",
   "metadata": {},
   "source": [
    "### Источник трафика"
   ]
  },
  {
   "cell_type": "code",
   "execution_count": 10,
   "id": "7ef2a606",
   "metadata": {},
   "outputs": [
    {
     "data": {
      "text/plain": [
       "array([nan, 'yandex', 'visitka', 'wazzup', '404', 'google', 'vk',\n",
       "       'telegram', 'mytarget', 'instagram', 'aDqCFY', 'vkontakte',\n",
       "       'yandex_poisk', 'waba'], dtype=object)"
      ]
     },
     "execution_count": 10,
     "metadata": {},
     "output_type": "execute_result"
    }
   ],
   "source": [
    "df['utm_source'].unique()"
   ]
  },
  {
   "cell_type": "code",
   "execution_count": 11,
   "id": "16747d2f",
   "metadata": {},
   "outputs": [
    {
     "data": {
      "text/plain": [
       "yandex          26387\n",
       "visitka         10947\n",
       "wazzup           1199\n",
       "google            802\n",
       "mytarget          651\n",
       "404               381\n",
       "telegram          283\n",
       "instagram           8\n",
       "vk                  6\n",
       "yandex_poisk        4\n",
       "waba                4\n",
       "aDqCFY              1\n",
       "vkontakte           1\n",
       "Name: utm_source, dtype: int64"
      ]
     },
     "execution_count": 11,
     "metadata": {},
     "output_type": "execute_result"
    }
   ],
   "source": [
    "df['utm_source'].value_counts()"
   ]
  },
  {
   "cell_type": "markdown",
   "id": "51515fc1",
   "metadata": {},
   "source": [
    "- Выставим значение заглушку для не определенных названий, такаже необходимо заменить 404 и aDqCFY на заглушку\n",
    "- Заменим yandex_poisk на yandex, а vk на vkontakte"
   ]
  },
  {
   "cell_type": "code",
   "execution_count": 12,
   "id": "e2c4f652",
   "metadata": {},
   "outputs": [],
   "source": [
    "df['utm_source'] = df['utm_source'].fillna('unknow')\n",
    "df.loc[(df['utm_source'] == 'aDqCFY') | (df['utm_source'] == '404'), 'utm_source'] = 'unknow'\n",
    "df.loc[df['utm_source'] == 'yandex_poisk', 'utm_source'] = 'yandex'\n",
    "df.loc[df['utm_source'] == 'vk', 'utm_source'] = 'vkontakte'"
   ]
  },
  {
   "cell_type": "markdown",
   "id": "89a465cb",
   "metadata": {},
   "source": [
    "### Название и тип компании"
   ]
  },
  {
   "cell_type": "code",
   "execution_count": 13,
   "id": "5f748146",
   "metadata": {},
   "outputs": [
    {
     "data": {
      "text/plain": [
       "array([nan, 'cpc', 'reklama', 'post', 'ILz', 'public'], dtype=object)"
      ]
     },
     "execution_count": 13,
     "metadata": {},
     "output_type": "execute_result"
    }
   ],
   "source": [
    "df['utm_medium'].unique()"
   ]
  },
  {
   "cell_type": "code",
   "execution_count": 14,
   "id": "0b377760",
   "metadata": {},
   "outputs": [],
   "source": [
    "# Также выставим значение заглушку"
   ]
  },
  {
   "cell_type": "code",
   "execution_count": 15,
   "id": "7567e3ed",
   "metadata": {
    "scrolled": true
   },
   "outputs": [
    {
     "data": {
      "text/plain": [
       "yandex       26391\n",
       "unknow       13666\n",
       "visitka      10947\n",
       "wazzup        1199\n",
       "google         802\n",
       "mytarget       651\n",
       "telegram       283\n",
       "instagram        8\n",
       "vkontakte        7\n",
       "waba             4\n",
       "Name: utm_source, dtype: int64"
      ]
     },
     "execution_count": 15,
     "metadata": {},
     "output_type": "execute_result"
    }
   ],
   "source": [
    "df['utm_source'].value_counts()"
   ]
  },
  {
   "cell_type": "code",
   "execution_count": 16,
   "id": "cf4fc255",
   "metadata": {},
   "outputs": [],
   "source": [
    "df['utm_medium'] = df['utm_medium'].fillna('unknow')"
   ]
  },
  {
   "cell_type": "code",
   "execution_count": 17,
   "id": "89b6354b",
   "metadata": {
    "scrolled": false
   },
   "outputs": [
    {
     "data": {
      "text/plain": [
       "array([nan, '71648929', '72411577', '72412884', '72412889', '72412683',\n",
       "       '72972241', '72984477',\n",
       "       'cid|13244953096|0521|google|cpc|ru|teplye|multissylka',\n",
       "       '71838068', 'smognails', '72411876',\n",
       "       'cid|13815939800|0521|google|cpc|eu|competitors|taplink|cena',\n",
       "       '69739018',\n",
       "       'cid|13322676845|0521|google|cpc|by|teplye|multissylka',\n",
       "       '74305653', 'i_nstagramer', '52150546', '52150845', '52151040',\n",
       "       '62012165', '63466135', '72482736', '72482737', '72482739',\n",
       "       '72482740', '72482741',\n",
       "       'cid|13322676851|0521|google|cpc|kz|teplye|multissylka',\n",
       "       'cid|13244871763|0521|google|cpc|ru|tranzak|besplatno|sch',\n",
       "       'cid|13824314847|0721|google|cpc|ru|teplye_2|instalanding',\n",
       "       'cid|13815939800|0521|google|cpc|eu|competitors|taplink|for_social',\n",
       "       'cid|13813036738|0521|google|cpc|by|competitors|taplink|for_social',\n",
       "       '62012011',\n",
       "       'cid|13811038492|0521|google|cpc|kz|competitors|taplink|sdelat',\n",
       "       '0721|instagram_cpc|by|conversion|audience_interest|beauty',\n",
       "       'common',\n",
       "       'cid|13824315009|0721|google|cpc|kz|teplye_2|instalanding',\n",
       "       'cid|13322676854|0521|google|cpc|kz|tranzak|besplatno|nch',\n",
       "       'cid|13811038492|0521|google|cpc|kz|competitors|taplink|for_social',\n",
       "       'cid|13824315009|0721|google|cpc|kz|teplye_2|besplatno',\n",
       "       'marketer_one',\n",
       "       'cid|16791043376|0521|google|cpc|eu|tranzak|analog',\n",
       "       'cid|13244871763|0521|google|cpc|ru|tranzak|besplatno|vch',\n",
       "       'cid|13811038492|0521|google|cpc|kz|competitors|taplink|sozdat',\n",
       "       '73095131',\n",
       "       'cid|13824315009|0721|google|cpc|kz|teplye_2|poshagovo',\n",
       "       'cid|13824308637|0721|google|cpc|by|teplye_2|sozdat_landing',\n",
       "       'cid|13813036738|0521|google|cpc|by|competitors|taplink|cena',\n",
       "       'cid|13245125206|0521|google|cpc|ru|competitors|taplink|sozdat',\n",
       "       '52710948', '52151741',\n",
       "       'cid|13245125206|0521|google|cpc|ru|competitors|taplink|sdelat',\n",
       "       'cid|13824314847|0721|google|cpc|ru|teplye_2|samostoyatelno',\n",
       "       'cid|16778058423|0721|google|cpc|eu|teplye_2|besplatno',\n",
       "       'cid|16791042698|0521|google|cpc|ru|competitors|taplink|sozdat',\n",
       "       'cid|16791042698|0521|google|cpc|ru|competitors|taplink|zakazat',\n",
       "       'cid|16782869743|0521|google|cpc|eu|competitors|taplink|zakazat',\n",
       "       '0721|instagram_cpc|rf|conversion|audience_interest|mebel',\n",
       "       'cid|13813036738|0521|google|cpc|by|competitors|another',\n",
       "       'cid|13824308637|0721|google|cpc|by|teplye_2|samostoyatelno',\n",
       "       'cid|13824314847|0721|google|cpc|ru|teplye_2|besplatno',\n",
       "       '71645389',\n",
       "       'cid|13322676854|0521|google|cpc|kz|tranzak|besplatno|vch',\n",
       "       'cid|16791042677|0521|google|cpc|ru|tranzak|besplatno|vch',\n",
       "       'cid|13824308616|0721|google|cpc|eu|teplye_2|samostoyatelno',\n",
       "       'cid|13245125206|0521|google|cpc|ru|competitors|taplink|for_social',\n",
       "       'postanovich_smm',\n",
       "       'cid|16778058612|0521|google|cpc|eu|teplye|miniland',\n",
       "       'cid|16782870160|0521|google|cpc|ru|teplye|mikroland',\n",
       "       'cid|16778058435|0721|google|cpc|ru|teplye_2|besplatno',\n",
       "       'cid|16778058435|0721|google|cpc|ru|teplye_2|poshagovo',\n",
       "       'cid|16791042698|0521|google|cpc|ru|competitors|another',\n",
       "       'cid|16782869743|0521|google|cpc|eu|competitors|another',\n",
       "       'cid|16778058423|0721|google|cpc|eu|teplye_2|instrukciya',\n",
       "       'cid|16778058435|0721|google|cpc|ru|teplye_2|instalanding',\n",
       "       'cid|16791042677|0521|google|cpc|ru|tranzak|besplatno|sch',\n",
       "       'cid|16791042677|0521|google|cpc|ru|tranzak|besplatno|nch',\n",
       "       'cid|16791043376|0521|google|cpc|eu|tranzak|besplatno|vch',\n",
       "       'cid|16778058423|0721|google|cpc|eu|teplye_2|instalanding',\n",
       "       'cid|16778058435|0721|google|cpc|ru|teplye_2|svoimi_rukami',\n",
       "       'cid|16791043376|0521|google|cpc|eu|tranzak|samostoyatelno',\n",
       "       'cid|13824308616|0721|google|cpc|eu|teplye_2|sozdat_landing',\n",
       "       'cid|16778058435|0721|google|cpc|ru|teplye_2|samostoyatelno',\n",
       "       'cid|16778058435|0721|google|cpc|ru|teplye_2|sdelat_landing',\n",
       "       'cid|16778058423|0721|google|cpc|eu|teplye_2|samostoyatelno',\n",
       "       'cid|16778058423|0721|google|cpc|eu|teplye_2|sozdat_landing',\n",
       "       'cid|16791042698|0521|google|cpc|ru|competitors|taplink|cena',\n",
       "       'cid|16791042698|0521|google|cpc|ru|competitors|taplink|sdelat',\n",
       "       'cid|16782869743|0521|google|cpc|eu|competitors|taplink|sozdat',\n",
       "       'cid|16782869743|0521|google|cpc|eu|competitors|taplink|sdelat',\n",
       "       'cid|16791042698|0521|google|cpc|ru|competitors|taplink|for_social',\n",
       "       'cid|16782869743|0521|google|cpc|eu|competitors|taplink|for_social',\n",
       "       'cid|16791042677|0521|google|cpc|ru|tranzak|analog',\n",
       "       'cid|16782870160|0521|google|cpc|ru|teplye|miniland',\n",
       "       'cid|16791042698|0521|google|cpc|ru|competitors|mssg',\n",
       "       'cid|16778058612|0521|google|cpc|eu|teplye|mikroland',\n",
       "       'cid|16782869743|0521|google|cpc|eu|competitors|mssg',\n",
       "       'cid|16782870160|0521|google|cpc|ru|teplye|multissylka',\n",
       "       'cid|16778058612|0521|google|cpc|eu|teplye|multissylka',\n",
       "       'cid|16778058423|0721|google|cpc|eu|teplye_2|poshagovo',\n",
       "       'cid|16778058435|0721|google|cpc|ru|teplye_2|instrukciya',\n",
       "       'cid|16791043376|0521|google|cpc|eu|tranzak|besplatno|sch',\n",
       "       'cid|16791043376|0521|google|cpc|eu|tranzak|besplatno|nch',\n",
       "       'cid|16791042677|0521|google|cpc|ru|tranzak|samostoyatelno',\n",
       "       'cid|16778058423|0721|google|cpc|eu|teplye_2|svoimi_rukami',\n",
       "       'cid|16778058435|0721|google|cpc|ru|teplye_2|dlya_instagram',\n",
       "       'cid|16778058435|0721|google|cpc|ru|teplye_2|sozdat_landing',\n",
       "       'cid|16778058423|0721|google|cpc|eu|teplye_2|sdelat_landing',\n",
       "       'cid|16782869743|0521|google|cpc|eu|competitors|taplink|cena',\n",
       "       'cid|16791042698|0521|google|cpc|ru|competitors|taplink|nastroit',\n",
       "       'cid|16782869743|0521|google|cpc|eu|competitors|taplink|nastroit',\n",
       "       'cid|13245125206|0521|google|cpc|ru|competitors|taplink|nastroit',\n",
       "       'cid|62012011|search|0521|yandex_poisk|cpc|ru|tranzak|besplatno|sch',\n",
       "       'cid|62012011|search|0521|yandex_poisk|cpc|ru|tranzak|besplatno|nch',\n",
       "       'vedushhij_nasvadbu',\n",
       "       'cid|13815935471|0521|google|cpc|eu|teplye|multissylka',\n",
       "       'cid|13824315009|0721|google|cpc|kz|teplye_2|samostoyatelno',\n",
       "       'cid|13322676854|0521|google|cpc|kz|tranzak|analog',\n",
       "       'cid|13245125206|0521|google|cpc|ru|competitors|taplink|cena',\n",
       "       '0621|instagram|cpc|kazah|all|shir', 'vedushie56',\n",
       "       'lashbotoxforum',\n",
       "       'cid|13824314847|0721|google|cpc|ru|teplye_2|sozdat_landing',\n",
       "       'test_var', '{campaign_id}',\n",
       "       'cid|13811038492|0521|google|cpc|kz|competitors|mssg',\n",
       "       'cid|13322676854|0521|google|cpc|kz|tranzak|besplatno|sch',\n",
       "       'cid|13813036738|0521|google|cpc|by|competitors|taplink|sdelat',\n",
       "       'test2',\n",
       "       'cid|13244871763|0521|google|cpc|ru|tranzak|samostoyatelno',\n",
       "       'cid|13824308637|0721|google|cpc|by|teplye_2|besplatno'],\n",
       "      dtype=object)"
      ]
     },
     "execution_count": 17,
     "metadata": {},
     "output_type": "execute_result"
    }
   ],
   "source": [
    "df['utm_campaign'].unique()"
   ]
  },
  {
   "cell_type": "markdown",
   "id": "a5a5991e",
   "metadata": {},
   "source": [
    "Не совсем понятный для меня набор данных, cid насколько я понял это идентификатор компании, можно распарсить строчки и вынуть все айдишники, и если бы был словарь, я заменил бы их на названия компаний, чтобы добавить фильтр на дашборд, но словаря нет, поэтому столбец просто удалю."
   ]
  },
  {
   "cell_type": "markdown",
   "id": "e0116ab9",
   "metadata": {},
   "source": [
    "### Сайт перехода"
   ]
  },
  {
   "cell_type": "code",
   "execution_count": 18,
   "id": "b074bb7f",
   "metadata": {},
   "outputs": [
    {
     "data": {
      "text/plain": [
       "0                         NaN\n",
       "1                         NaN\n",
       "2                         NaN\n",
       "3    https://contact-me.info/\n",
       "4    https://contact-me.info/\n",
       "5    https://contact-me.info/\n",
       "6                         NaN\n",
       "7                         NaN\n",
       "8                         NaN\n",
       "9                         NaN\n",
       "Name: init_referrer, dtype: object"
      ]
     },
     "execution_count": 18,
     "metadata": {},
     "output_type": "execute_result"
    }
   ],
   "source": [
    "df['init_referrer'].head(10)"
   ]
  },
  {
   "cell_type": "code",
   "execution_count": 19,
   "id": "07126e1f",
   "metadata": {},
   "outputs": [],
   "source": [
    "# Сделаем сайты более читабельными\n",
    "def site_replace(string):\n",
    "    if pd.isna(string):\n",
    "        return 'unknow'\n",
    "    elif 'contact-me' in string: \n",
    "        return 'organic'\n",
    "    else:\n",
    "        return re.findall(r'//.*/', string)[0].replace('/', '')"
   ]
  },
  {
   "cell_type": "code",
   "execution_count": 20,
   "id": "adaaa9b1",
   "metadata": {},
   "outputs": [
    {
     "data": {
      "text/plain": [
       "272"
      ]
     },
     "execution_count": 20,
     "metadata": {},
     "output_type": "execute_result"
    }
   ],
   "source": [
    "len(df['init_referrer'].apply(site_replace).unique())"
   ]
  },
  {
   "cell_type": "markdown",
   "id": "d8112d63",
   "metadata": {},
   "source": [
    "Значений очень много, даже после обработки, удобный фильтр сделать не получится, колонка под удаление"
   ]
  },
  {
   "cell_type": "markdown",
   "id": "8ba50267",
   "metadata": {},
   "source": [
    "### Браузер и операционная система"
   ]
  },
  {
   "cell_type": "code",
   "execution_count": 21,
   "id": "0b849776",
   "metadata": {},
   "outputs": [
    {
     "data": {
      "text/plain": [
       "array([nan, 'Chrome', 'Firefox', 'Yandex', 'Instagram', 'Opera Touch',\n",
       "       'Mobile Safari', 'WebKit', 'GSA', 'Opera', 'Safari',\n",
       "       'MIUI Browser', 'Chrome WebView', 'Samsung Browser', 'Facebook',\n",
       "       'Edge', 'Quark', 'QQBrowser', 'Android Browser', 'UCBrowser',\n",
       "       'Chrome Headless', 'Silk', 'Waterfox', 'Whale'], dtype=object)"
      ]
     },
     "execution_count": 21,
     "metadata": {},
     "output_type": "execute_result"
    }
   ],
   "source": [
    "df['browser'].unique()"
   ]
  },
  {
   "cell_type": "markdown",
   "id": "5449a8fa",
   "metadata": {},
   "source": [
    "Не понимаю специфику привлечения пользователей, есть ли какие-либо различия в пользователях, которые пользуются разными браузерами. В работе я бы обязательно уточнил этот момент у коллег. Пока интуитивно предоположу что нет, фильтр в дашборде  делать не будем, столбец под удаление."
   ]
  },
  {
   "cell_type": "code",
   "execution_count": 22,
   "id": "0b296822",
   "metadata": {},
   "outputs": [
    {
     "data": {
      "text/plain": [
       "array([nan, 'Ubuntu', 'iOS', 'Linux', 'Mac OS', 'Android', 'Windows',\n",
       "       'Chromium OS', 'Fedora'], dtype=object)"
      ]
     },
     "execution_count": 22,
     "metadata": {},
     "output_type": "execute_result"
    }
   ],
   "source": [
    "df['os'].unique()"
   ]
  },
  {
   "cell_type": "code",
   "execution_count": 23,
   "id": "d4613671",
   "metadata": {},
   "outputs": [],
   "source": [
    "# Установим заглушку\n",
    "df['os'] = df['os'].fillna('unknow')"
   ]
  },
  {
   "cell_type": "markdown",
   "id": "53fcb951",
   "metadata": {},
   "source": [
    "### Ивенты"
   ]
  },
  {
   "cell_type": "code",
   "execution_count": 24,
   "id": "484f7d4e",
   "metadata": {},
   "outputs": [
    {
     "data": {
      "text/plain": [
       "array(['landing.unique-visit', 'editor.add.click', 'payment.unsubscribe',\n",
       "       'register-confirm-code-success', 'editor-bg.save.click',\n",
       "       'editor-main.save.click', 'register-enter', 'editor.link.click',\n",
       "       'editor-messengers.save.click', 'editor-title.save.click',\n",
       "       'editor-socials.save.click', 'editor-photos.save.click',\n",
       "       'editor-separator.save.click', 'editor-button.save.click',\n",
       "       'payment.attempt', 'editor-price.save.click',\n",
       "       'editor-add.payment.click', 'editor-map.save.click',\n",
       "       'editor-description.save.click', 'editor-payment.cancel.click',\n",
       "       'editor-faq.save.click', 'editor-products.save.click',\n",
       "       'editor-messengers.delete.click', 'editor-socials.delete.click',\n",
       "       'editor-description.delete.click', 'editor-title.delete.click',\n",
       "       'editor-photos.delete.click', 'editor-main.delete.click',\n",
       "       'editor-button.delete.click', 'editor-reviews.save.click',\n",
       "       'editor-banner.save.click', 'editor-payment.save.click',\n",
       "       'payment.success', 'editor-price.delete.click',\n",
       "       'editor-separator.delete.click', 'editor-video.save.click',\n",
       "       'editor-reviews.delete.click', 'editor-faq.delete.click',\n",
       "       'editor-products.delete.click', 'editor-map.delete.click',\n",
       "       'payment.success.recurring', 'editor-banner.delete.click',\n",
       "       'editor-video.delete.click', 'editor-payment.delete.click',\n",
       "       'editor-payment.edit.click'], dtype=object)"
      ]
     },
     "execution_count": 24,
     "metadata": {},
     "output_type": "execute_result"
    }
   ],
   "source": [
    "df['event'].unique()"
   ]
  },
  {
   "cell_type": "markdown",
   "id": "c0d9e9b3",
   "metadata": {},
   "source": [
    "Очень много ивентов, большинтво связаны именно с добовлением новых блоков, для дашборда нужно только 5:\n",
    "1. Переход на лэндинг (landing.unique-visit)\n",
    "2. Регистрация (register-confirm-code-success)\n",
    "3. Добавление первого блока (editor.add.click)\n",
    "4. Попытка оплаты (payment.attempt)\n",
    "5. Покупка платного тарифа (payment.success)\n",
    "\n",
    "Также в важных событиях есть: Клик по Ссылка editor.link.click - что за ссылка не понятно. Пошел на сайт: возможно имеется в виду ссылка в нижнем меню, к заданой воронке она не относится, добавлять не будем."
   ]
  },
  {
   "cell_type": "code",
   "execution_count": 25,
   "id": "888037df",
   "metadata": {},
   "outputs": [],
   "source": [
    "# Создаем список нужных ивентов, остальные удалим из датафрейма\n",
    "event_list = ['landing.unique-visit', 'register-confirm-code-success', 'editor.add.click',\n",
    "              'payment.attempt', 'payment.success']\n",
    "df2 = df[df['event'].isin(event_list)]"
   ]
  },
  {
   "cell_type": "code",
   "execution_count": 26,
   "id": "240c72c0",
   "metadata": {},
   "outputs": [
    {
     "data": {
      "text/plain": [
       "array([nan], dtype=object)"
      ]
     },
     "execution_count": 26,
     "metadata": {},
     "output_type": "execute_result"
    }
   ],
   "source": [
    "df2['blockid'].unique() # Тоже под удаление"
   ]
  },
  {
   "cell_type": "markdown",
   "id": "e5e949c4",
   "metadata": {},
   "source": [
    "**Последние исправления**"
   ]
  },
  {
   "cell_type": "code",
   "execution_count": 27,
   "id": "3fbf8f61",
   "metadata": {},
   "outputs": [],
   "source": [
    "# Удалим ненужные столбцы\n",
    "df2 = df2.drop(columns=['utm_campaign', 'browser', 'blockid', 'init_referrer'], axis=1)"
   ]
  },
  {
   "cell_type": "code",
   "execution_count": 28,
   "id": "abb7f42d",
   "metadata": {},
   "outputs": [
    {
     "name": "stdout",
     "output_type": "stream",
     "text": [
      "Количество дубликатов: 83\n"
     ]
    }
   ],
   "source": [
    "print('Количество дубликатов:', df2.duplicated().sum())"
   ]
  },
  {
   "cell_type": "code",
   "execution_count": 29,
   "id": "10a2b79c",
   "metadata": {
    "scrolled": true
   },
   "outputs": [
    {
     "name": "stdout",
     "output_type": "stream",
     "text": [
      "<class 'pandas.core.frame.DataFrame'>\n",
      "Int64Index: 21772 entries, 0 to 53938\n",
      "Data columns (total 9 columns):\n",
      " #   Column       Non-Null Count  Dtype         \n",
      "---  ------       --------------  -----         \n",
      " 0   local_us_id  21772 non-null  object        \n",
      " 1   reg_us_id    14268 non-null  object        \n",
      " 2   dt           21772 non-null  datetime64[ns]\n",
      " 3   utm_source   21772 non-null  object        \n",
      " 4   utm_medium   21772 non-null  object        \n",
      " 5   os           21772 non-null  object        \n",
      " 6   event        21772 non-null  object        \n",
      " 7   date         21772 non-null  object        \n",
      " 8   time         21772 non-null  object        \n",
      "dtypes: datetime64[ns](1), object(8)\n",
      "memory usage: 1.7+ MB\n"
     ]
    }
   ],
   "source": [
    "df2 = df2.drop_duplicates()\n",
    "df2.info()"
   ]
  },
  {
   "cell_type": "code",
   "execution_count": 30,
   "id": "54da1c4e",
   "metadata": {},
   "outputs": [
    {
     "data": {
      "text/plain": [
       "editor.add.click                 12016\n",
       "landing.unique-visit              7622\n",
       "register-confirm-code-success     1926\n",
       "payment.attempt                    189\n",
       "payment.success                     19\n",
       "Name: event, dtype: int64"
      ]
     },
     "execution_count": 30,
     "metadata": {},
     "output_type": "execute_result"
    }
   ],
   "source": [
    "df2['event'].value_counts()"
   ]
  },
  {
   "cell_type": "markdown",
   "id": "d7c8fc81",
   "metadata": {},
   "source": [
    "## Исследовательский анализ данных"
   ]
  },
  {
   "cell_type": "markdown",
   "id": "294349c2",
   "metadata": {},
   "source": [
    "### Дата"
   ]
  },
  {
   "cell_type": "code",
   "execution_count": 31,
   "id": "ce894e0b",
   "metadata": {},
   "outputs": [
    {
     "name": "stdout",
     "output_type": "stream",
     "text": [
      "Минимальная дата 2022-04-01\n",
      "Максимальная дата 2022-05-01\n",
      "Изучаем данные за период 31 дней\n"
     ]
    }
   ],
   "source": [
    "min_d = df2['date'].min()\n",
    "max_d = df2['date'].max()\n",
    "print('Минимальная дата', min_d)\n",
    "print('Максимальная дата', max_d)\n",
    "dates = pd.date_range(start=min_d, end=max_d)\n",
    "print('Изучаем данные за период {} дней'.format(len(dates)))"
   ]
  },
  {
   "cell_type": "code",
   "execution_count": 32,
   "id": "951b5743",
   "metadata": {
    "scrolled": true
   },
   "outputs": [
    {
     "name": "stdout",
     "output_type": "stream",
     "text": [
      "ГИСТОГРАММА КОЛИЧЕСТВА ПЕРЕХОДОВ НА ЛЕНДИНГ ДНЯМ\n"
     ]
    },
    {
     "data": {
      "image/png": "[encoded data removed]",
      "text/plain": [
       "<Figure size 432x288 with 1 Axes>"
      ]
     },
     "metadata": {
      "needs_background": "light"
     },
     "output_type": "display_data"
    }
   ],
   "source": [
    "df2[df2['event'] == 'landing.unique-visit']['date'].hist(bins=31)\n",
    "print('ГИСТОГРАММА КОЛИЧЕСТВА ПЕРЕХОДОВ НА ЛЕНДИНГ ДНЯМ')"
   ]
  },
  {
   "cell_type": "markdown",
   "id": "bced019d",
   "metadata": {},
   "source": [
    "Видим что выгрузка данных очень неравномерная, возможно это связано с особенностями привлечения по рекламным источникам. Главное, мы убедились, что нет совсем пустых дней и выгрузка подходит для дальнейшего анализа."
   ]
  },
  {
   "cell_type": "markdown",
   "id": "cb5d4b7f",
   "metadata": {},
   "source": [
    "### Фильтр активации"
   ]
  },
  {
   "cell_type": "markdown",
   "id": "c4f05b28",
   "metadata": {},
   "source": [
    "Выясним по имеющимся данным, какое среднее количество блоков находится у пользователя в момент  оплаты."
   ]
  },
  {
   "cell_type": "code",
   "execution_count": 33,
   "id": "93ad0703",
   "metadata": {},
   "outputs": [],
   "source": [
    "def event_status(row):\n",
    "    if pd.isna(row):\n",
    "        return 0\n",
    "    else:\n",
    "        if 'save' in row:\n",
    "            return 1\n",
    "        elif 'delete' in row:\n",
    "            return -1\n",
    "        else:\n",
    "            return 0"
   ]
  },
  {
   "cell_type": "code",
   "execution_count": 34,
   "id": "ef23b650",
   "metadata": {},
   "outputs": [],
   "source": [
    "df['event_status'] = df['event'].apply(event_status)\n",
    "payment_user = df[df['event'] == 'payment.success'][['reg_us_id', 'date']]"
   ]
  },
  {
   "cell_type": "code",
   "execution_count": 35,
   "id": "a25ecec9",
   "metadata": {
    "scrolled": true
   },
   "outputs": [
    {
     "name": "stdout",
     "output_type": "stream",
     "text": [
      "Среднее количество блоков у пользователей в момент совершения оплаты: 29\n"
     ]
    }
   ],
   "source": [
    "blocks = 0\n",
    "for i in payment_user.index:\n",
    "    blocks += df[(df['reg_us_id'] == payment_user['reg_us_id'][i]) &\n",
    "                  (df['date'] <= payment_user['date'][i])]['event_status'].sum()\n",
    "avg_blocks = round(blocks / len(payment_user))\n",
    "print('Среднее количество блоков у пользователей в момент совершения оплаты:', avg_blocks)"
   ]
  },
  {
   "cell_type": "markdown",
   "id": "81381c4f",
   "metadata": {},
   "source": [
    "Теперь сделаем условный флажок для пользователей которые достигли показателей купивших "
   ]
  },
  {
   "cell_type": "code",
   "execution_count": 38,
   "id": "10f4e70c",
   "metadata": {
    "scrolled": false
   },
   "outputs": [
    {
     "data": {
      "text/html": [
       "<div>\n",
       "<style scoped>\n",
       "    .dataframe tbody tr th:only-of-type {\n",
       "        vertical-align: middle;\n",
       "    }\n",
       "\n",
       "    .dataframe tbody tr th {\n",
       "        vertical-align: top;\n",
       "    }\n",
       "\n",
       "    .dataframe thead th {\n",
       "        text-align: right;\n",
       "    }\n",
       "</style>\n",
       "<table border=\"1\" class=\"dataframe\">\n",
       "  <thead>\n",
       "    <tr style=\"text-align: right;\">\n",
       "      <th></th>\n",
       "      <th>reg_us_id</th>\n",
       "      <th>date</th>\n",
       "      <th>cnt_blocks</th>\n",
       "    </tr>\n",
       "  </thead>\n",
       "  <tbody>\n",
       "    <tr>\n",
       "      <th>0</th>\n",
       "      <td>603f87ecdd53710023412b94</td>\n",
       "      <td>2022-04-12</td>\n",
       "      <td>0</td>\n",
       "    </tr>\n",
       "    <tr>\n",
       "      <th>1</th>\n",
       "      <td>6047c90ba1bc4800239048e2</td>\n",
       "      <td>2022-04-01</td>\n",
       "      <td>1</td>\n",
       "    </tr>\n",
       "    <tr>\n",
       "      <th>2</th>\n",
       "      <td>606cc258075eec0022cd3e57</td>\n",
       "      <td>2022-04-01</td>\n",
       "      <td>0</td>\n",
       "    </tr>\n",
       "    <tr>\n",
       "      <th>3</th>\n",
       "      <td>606cc258075eec0022cd3e57</td>\n",
       "      <td>2022-04-25</td>\n",
       "      <td>1</td>\n",
       "    </tr>\n",
       "    <tr>\n",
       "      <th>4</th>\n",
       "      <td>606cc258075eec0022cd3e57</td>\n",
       "      <td>2022-04-26</td>\n",
       "      <td>2</td>\n",
       "    </tr>\n",
       "  </tbody>\n",
       "</table>\n",
       "</div>"
      ],
      "text/plain": [
       "                  reg_us_id        date  cnt_blocks\n",
       "0  603f87ecdd53710023412b94  2022-04-12           0\n",
       "1  6047c90ba1bc4800239048e2  2022-04-01           1\n",
       "2  606cc258075eec0022cd3e57  2022-04-01           0\n",
       "3  606cc258075eec0022cd3e57  2022-04-25           1\n",
       "4  606cc258075eec0022cd3e57  2022-04-26           2"
      ]
     },
     "execution_count": 38,
     "metadata": {},
     "output_type": "execute_result"
    }
   ],
   "source": [
    "# Количество ивентов с накоплением\n",
    "accum_ev = df.copy()\n",
    "accum_ev = accum_ev.groupby(['reg_us_id', 'date'])['event_status'].sum().reset_index().rename(columns={'event_status':'cnt_blocks'})\n",
    "accum_ev.head()"
   ]
  },
  {
   "cell_type": "code",
   "execution_count": 39,
   "id": "99b5f997",
   "metadata": {
    "scrolled": true
   },
   "outputs": [
    {
     "data": {
      "text/html": [
       "<div>\n",
       "<style scoped>\n",
       "    .dataframe tbody tr th:only-of-type {\n",
       "        vertical-align: middle;\n",
       "    }\n",
       "\n",
       "    .dataframe tbody tr th {\n",
       "        vertical-align: top;\n",
       "    }\n",
       "\n",
       "    .dataframe thead th {\n",
       "        text-align: right;\n",
       "    }\n",
       "</style>\n",
       "<table border=\"1\" class=\"dataframe\">\n",
       "  <thead>\n",
       "    <tr style=\"text-align: right;\">\n",
       "      <th></th>\n",
       "      <th>local_us_id</th>\n",
       "      <th>reg_us_id</th>\n",
       "      <th>dt</th>\n",
       "      <th>utm_source</th>\n",
       "      <th>utm_medium</th>\n",
       "      <th>os</th>\n",
       "      <th>event</th>\n",
       "      <th>date</th>\n",
       "      <th>time</th>\n",
       "      <th>cnt_blocks</th>\n",
       "    </tr>\n",
       "  </thead>\n",
       "  <tbody>\n",
       "    <tr>\n",
       "      <th>0</th>\n",
       "      <td>3f2fa233-444b-4e87-a5c4-0277499c4be4</td>\n",
       "      <td>NaN</td>\n",
       "      <td>2022-04-15 15:26:13</td>\n",
       "      <td>unknow</td>\n",
       "      <td>unknow</td>\n",
       "      <td>unknow</td>\n",
       "      <td>landing.unique-visit</td>\n",
       "      <td>2022-04-15</td>\n",
       "      <td>15:26:13</td>\n",
       "      <td>NaN</td>\n",
       "    </tr>\n",
       "    <tr>\n",
       "      <th>1</th>\n",
       "      <td>3f2fa233-444b-4e87-a5c4-0277499c4be4</td>\n",
       "      <td>NaN</td>\n",
       "      <td>2022-04-15 00:00:00</td>\n",
       "      <td>unknow</td>\n",
       "      <td>unknow</td>\n",
       "      <td>unknow</td>\n",
       "      <td>landing.unique-visit</td>\n",
       "      <td>2022-04-15</td>\n",
       "      <td>00:00:00</td>\n",
       "      <td>NaN</td>\n",
       "    </tr>\n",
       "    <tr>\n",
       "      <th>2</th>\n",
       "      <td>454e934d-f554-4e19-be36-03d1ce201413</td>\n",
       "      <td>NaN</td>\n",
       "      <td>2022-04-15 11:04:56</td>\n",
       "      <td>unknow</td>\n",
       "      <td>unknow</td>\n",
       "      <td>Ubuntu</td>\n",
       "      <td>landing.unique-visit</td>\n",
       "      <td>2022-04-15</td>\n",
       "      <td>11:04:56</td>\n",
       "      <td>NaN</td>\n",
       "    </tr>\n",
       "    <tr>\n",
       "      <th>3</th>\n",
       "      <td>328e7e92-b284-4dfe-ab76-c6443f3d13e0</td>\n",
       "      <td>621f862dddf4bc00444bbb0c</td>\n",
       "      <td>2022-04-15 11:35:58</td>\n",
       "      <td>unknow</td>\n",
       "      <td>unknow</td>\n",
       "      <td>Ubuntu</td>\n",
       "      <td>editor.add.click</td>\n",
       "      <td>2022-04-15</td>\n",
       "      <td>11:35:58</td>\n",
       "      <td>-8.0</td>\n",
       "    </tr>\n",
       "    <tr>\n",
       "      <th>4</th>\n",
       "      <td>328e7e92-b284-4dfe-ab76-c6443f3d13e0</td>\n",
       "      <td>621f862dddf4bc00444bbb0c</td>\n",
       "      <td>2022-04-15 11:36:11</td>\n",
       "      <td>unknow</td>\n",
       "      <td>unknow</td>\n",
       "      <td>Ubuntu</td>\n",
       "      <td>editor.add.click</td>\n",
       "      <td>2022-04-15</td>\n",
       "      <td>11:36:11</td>\n",
       "      <td>-8.0</td>\n",
       "    </tr>\n",
       "  </tbody>\n",
       "</table>\n",
       "</div>"
      ],
      "text/plain": [
       "                            local_us_id                 reg_us_id  \\\n",
       "0  3f2fa233-444b-4e87-a5c4-0277499c4be4                       NaN   \n",
       "1  3f2fa233-444b-4e87-a5c4-0277499c4be4                       NaN   \n",
       "2  454e934d-f554-4e19-be36-03d1ce201413                       NaN   \n",
       "3  328e7e92-b284-4dfe-ab76-c6443f3d13e0  621f862dddf4bc00444bbb0c   \n",
       "4  328e7e92-b284-4dfe-ab76-c6443f3d13e0  621f862dddf4bc00444bbb0c   \n",
       "\n",
       "                   dt utm_source utm_medium      os                 event  \\\n",
       "0 2022-04-15 15:26:13     unknow     unknow  unknow  landing.unique-visit   \n",
       "1 2022-04-15 00:00:00     unknow     unknow  unknow  landing.unique-visit   \n",
       "2 2022-04-15 11:04:56     unknow     unknow  Ubuntu  landing.unique-visit   \n",
       "3 2022-04-15 11:35:58     unknow     unknow  Ubuntu      editor.add.click   \n",
       "4 2022-04-15 11:36:11     unknow     unknow  Ubuntu      editor.add.click   \n",
       "\n",
       "         date      time  cnt_blocks  \n",
       "0  2022-04-15  15:26:13         NaN  \n",
       "1  2022-04-15  00:00:00         NaN  \n",
       "2  2022-04-15  11:04:56         NaN  \n",
       "3  2022-04-15  11:35:58        -8.0  \n",
       "4  2022-04-15  11:36:11        -8.0  "
      ]
     },
     "execution_count": 39,
     "metadata": {},
     "output_type": "execute_result"
    }
   ],
   "source": [
    "# Добавим столбец в нужный датафрейм\n",
    "df2 = df2.merge(accum_ev, on=['reg_us_id', 'date'], how='left')\n",
    "df2.head()"
   ]
  },
  {
   "cell_type": "code",
   "execution_count": 41,
   "id": "ddd11fce",
   "metadata": {},
   "outputs": [
    {
     "data": {
      "text/plain": [
       "count    14268.000000\n",
       "mean        22.894589\n",
       "std         27.906993\n",
       "min        -11.000000\n",
       "25%          4.000000\n",
       "50%         13.000000\n",
       "75%         30.000000\n",
       "max        145.000000\n",
       "Name: cnt_blocks, dtype: float64"
      ]
     },
     "execution_count": 41,
     "metadata": {},
     "output_type": "execute_result"
    }
   ],
   "source": [
    "df2['cnt_blocks'].describe()"
   ]
  },
  {
   "cell_type": "markdown",
   "id": "e2d36204",
   "metadata": {},
   "source": [
    "Появились отрицательные значения, я думаю это переходящие строки с прошлого месяца. В таком случае некоторые ивенты добавления блока, как и ивент регистрации отсутствуют в датафрейме для этих пользователей."
   ]
  },
  {
   "cell_type": "code",
   "execution_count": null,
   "id": "44244f9f",
   "metadata": {
    "scrolled": false
   },
   "outputs": [],
   "source": [
    "display(df2[df2['cnt_blocks'] < 20].head())\n",
    "df2[df2['reg_us_id'] =='617f5f006ba50b004346455c']['event']"
   ]
  },
  {
   "cell_type": "markdown",
   "id": "368c4b97",
   "metadata": {},
   "source": [
    "Проверка подтвердила предположение, осталось только добавить флажок статуса активации"
   ]
  },
  {
   "cell_type": "code",
   "execution_count": 42,
   "id": "21596334",
   "metadata": {},
   "outputs": [],
   "source": [
    "df2['active_us'] = df2['cnt_blocks'].apply(lambda x: True if x>=avg_blocks else False)"
   ]
  },
  {
   "cell_type": "code",
   "execution_count": 43,
   "id": "6a102e8a",
   "metadata": {},
   "outputs": [
    {
     "data": {
      "text/html": [
       "<div>\n",
       "<style scoped>\n",
       "    .dataframe tbody tr th:only-of-type {\n",
       "        vertical-align: middle;\n",
       "    }\n",
       "\n",
       "    .dataframe tbody tr th {\n",
       "        vertical-align: top;\n",
       "    }\n",
       "\n",
       "    .dataframe thead th {\n",
       "        text-align: right;\n",
       "    }\n",
       "</style>\n",
       "<table border=\"1\" class=\"dataframe\">\n",
       "  <thead>\n",
       "    <tr style=\"text-align: right;\">\n",
       "      <th></th>\n",
       "      <th>local_us_id</th>\n",
       "      <th>reg_us_id</th>\n",
       "      <th>dt</th>\n",
       "      <th>utm_source</th>\n",
       "      <th>utm_medium</th>\n",
       "      <th>os</th>\n",
       "      <th>event</th>\n",
       "      <th>date</th>\n",
       "      <th>time</th>\n",
       "      <th>cnt_blocks</th>\n",
       "      <th>active_us</th>\n",
       "    </tr>\n",
       "  </thead>\n",
       "  <tbody>\n",
       "    <tr>\n",
       "      <th>12615</th>\n",
       "      <td>67744c15-7bea-45da-adab-72113b9b18ee</td>\n",
       "      <td>60d62db5685682004593a298</td>\n",
       "      <td>2022-04-27 17:55:08</td>\n",
       "      <td>unknow</td>\n",
       "      <td>unknow</td>\n",
       "      <td>Android</td>\n",
       "      <td>editor.add.click</td>\n",
       "      <td>2022-04-27</td>\n",
       "      <td>17:55:08</td>\n",
       "      <td>48.0</td>\n",
       "      <td>True</td>\n",
       "    </tr>\n",
       "    <tr>\n",
       "      <th>13746</th>\n",
       "      <td>781837fa-4dc9-4159-91b1-b0d095f5cc44</td>\n",
       "      <td>626820e13790540043032db7</td>\n",
       "      <td>2022-04-26 17:46:46</td>\n",
       "      <td>unknow</td>\n",
       "      <td>unknow</td>\n",
       "      <td>iOS</td>\n",
       "      <td>editor.add.click</td>\n",
       "      <td>2022-04-26</td>\n",
       "      <td>17:46:46</td>\n",
       "      <td>23.0</td>\n",
       "      <td>False</td>\n",
       "    </tr>\n",
       "    <tr>\n",
       "      <th>18102</th>\n",
       "      <td>824159f8-1d97-4ba7-8e04-a24eb2b8965f</td>\n",
       "      <td>625ece6608dd5000446f397e</td>\n",
       "      <td>2022-04-19 17:28:33</td>\n",
       "      <td>yandex</td>\n",
       "      <td>cpc</td>\n",
       "      <td>Android</td>\n",
       "      <td>editor.add.click</td>\n",
       "      <td>2022-04-19</td>\n",
       "      <td>17:28:33</td>\n",
       "      <td>39.0</td>\n",
       "      <td>True</td>\n",
       "    </tr>\n",
       "    <tr>\n",
       "      <th>13981</th>\n",
       "      <td>7f284bba-ee70-4429-ada8-6e41f7cf0d94</td>\n",
       "      <td>62685a5b3790540043038bd4</td>\n",
       "      <td>2022-04-26 21:11:44</td>\n",
       "      <td>yandex</td>\n",
       "      <td>cpc</td>\n",
       "      <td>iOS</td>\n",
       "      <td>editor.add.click</td>\n",
       "      <td>2022-04-26</td>\n",
       "      <td>21:11:44</td>\n",
       "      <td>37.0</td>\n",
       "      <td>True</td>\n",
       "    </tr>\n",
       "    <tr>\n",
       "      <th>13979</th>\n",
       "      <td>7f284bba-ee70-4429-ada8-6e41f7cf0d94</td>\n",
       "      <td>62685a5b3790540043038bd4</td>\n",
       "      <td>2022-04-26 21:03:51</td>\n",
       "      <td>yandex</td>\n",
       "      <td>cpc</td>\n",
       "      <td>iOS</td>\n",
       "      <td>editor.add.click</td>\n",
       "      <td>2022-04-26</td>\n",
       "      <td>21:03:51</td>\n",
       "      <td>37.0</td>\n",
       "      <td>True</td>\n",
       "    </tr>\n",
       "  </tbody>\n",
       "</table>\n",
       "</div>"
      ],
      "text/plain": [
       "                                local_us_id                 reg_us_id  \\\n",
       "12615  67744c15-7bea-45da-adab-72113b9b18ee  60d62db5685682004593a298   \n",
       "13746  781837fa-4dc9-4159-91b1-b0d095f5cc44  626820e13790540043032db7   \n",
       "18102  824159f8-1d97-4ba7-8e04-a24eb2b8965f  625ece6608dd5000446f397e   \n",
       "13981  7f284bba-ee70-4429-ada8-6e41f7cf0d94  62685a5b3790540043038bd4   \n",
       "13979  7f284bba-ee70-4429-ada8-6e41f7cf0d94  62685a5b3790540043038bd4   \n",
       "\n",
       "                       dt utm_source utm_medium       os             event  \\\n",
       "12615 2022-04-27 17:55:08     unknow     unknow  Android  editor.add.click   \n",
       "13746 2022-04-26 17:46:46     unknow     unknow      iOS  editor.add.click   \n",
       "18102 2022-04-19 17:28:33     yandex        cpc  Android  editor.add.click   \n",
       "13981 2022-04-26 21:11:44     yandex        cpc      iOS  editor.add.click   \n",
       "13979 2022-04-26 21:03:51     yandex        cpc      iOS  editor.add.click   \n",
       "\n",
       "             date      time  cnt_blocks  active_us  \n",
       "12615  2022-04-27  17:55:08        48.0       True  \n",
       "13746  2022-04-26  17:46:46        23.0      False  \n",
       "18102  2022-04-19  17:28:33        39.0       True  \n",
       "13981  2022-04-26  21:11:44        37.0       True  \n",
       "13979  2022-04-26  21:03:51        37.0       True  "
      ]
     },
     "execution_count": 43,
     "metadata": {},
     "output_type": "execute_result"
    }
   ],
   "source": [
    "df2[df2['cnt_blocks'] > 20].sample(5)"
   ]
  },
  {
   "cell_type": "code",
   "execution_count": 44,
   "id": "54d5d65b",
   "metadata": {},
   "outputs": [
    {
     "name": "stdout",
     "output_type": "stream",
     "text": [
      "<class 'pandas.core.frame.DataFrame'>\n",
      "Int64Index: 21772 entries, 0 to 21771\n",
      "Data columns (total 11 columns):\n",
      " #   Column       Non-Null Count  Dtype         \n",
      "---  ------       --------------  -----         \n",
      " 0   local_us_id  21772 non-null  object        \n",
      " 1   reg_us_id    14268 non-null  object        \n",
      " 2   dt           21772 non-null  datetime64[ns]\n",
      " 3   utm_source   21772 non-null  object        \n",
      " 4   utm_medium   21772 non-null  object        \n",
      " 5   os           21772 non-null  object        \n",
      " 6   event        21772 non-null  object        \n",
      " 7   date         21772 non-null  object        \n",
      " 8   time         21772 non-null  object        \n",
      " 9   cnt_blocks   14268 non-null  float64       \n",
      " 10  active_us    21772 non-null  bool          \n",
      "dtypes: bool(1), datetime64[ns](1), float64(1), object(8)\n",
      "memory usage: 1.8+ MB\n"
     ]
    }
   ],
   "source": [
    "df2.info()"
   ]
  },
  {
   "cell_type": "markdown",
   "id": "213a9c3a",
   "metadata": {},
   "source": [
    "### Ивенты"
   ]
  },
  {
   "cell_type": "code",
   "execution_count": 45,
   "id": "c250a57e",
   "metadata": {
    "scrolled": true
   },
   "outputs": [
    {
     "data": {
      "text/plain": [
       "editor.add.click                 12016\n",
       "landing.unique-visit              7622\n",
       "register-confirm-code-success     1926\n",
       "payment.attempt                    189\n",
       "payment.success                     19\n",
       "Name: event, dtype: int64"
      ]
     },
     "execution_count": 45,
     "metadata": {},
     "output_type": "execute_result"
    }
   ],
   "source": [
    "df2['event'].value_counts()"
   ]
  },
  {
   "cell_type": "markdown",
   "id": "228f9138",
   "metadata": {},
   "source": [
    "Необходимо убрать лишние ивенты добавления блоков для каждого пользователя и оставить только первый"
   ]
  },
  {
   "cell_type": "code",
   "execution_count": 46,
   "id": "9aa2a338",
   "metadata": {},
   "outputs": [
    {
     "data": {
      "text/plain": [
       "landing.unique-visit             7423\n",
       "editor.add.click                 1915\n",
       "register-confirm-code-success    1891\n",
       "payment.attempt                   129\n",
       "payment.success                    18\n",
       "Name: event, dtype: int64"
      ]
     },
     "execution_count": 46,
     "metadata": {},
     "output_type": "execute_result"
    }
   ],
   "source": [
    "# Добавляем индексы, чтобы фильтровать нужные строки\n",
    "df2 = df2.reset_index()\n",
    "# Ищем индексы для каждого события\n",
    "ind = df2.sort_values(by='dt').groupby(['local_us_id', 'event']).agg({'index':'first'})\n",
    "# Фильтруем строки, убирая лишние события\n",
    "funnel = df2[df2['index'].isin(ind['index'])]\n",
    "funnel['event'].value_counts()"
   ]
  },
  {
   "cell_type": "markdown",
   "id": "8f3ef430",
   "metadata": {},
   "source": [
    "Помимо ивентов добавления блока, сократились еще ряд других, часть из них повторяющиеся ивенты для одного локального айди, а вот уменьшение в ивенте подтверждения платежа возможно связано с тем, что с одного устройства заходили на разные аккаунты, проверим:"
   ]
  },
  {
   "cell_type": "code",
   "execution_count": 47,
   "id": "9aa2f018",
   "metadata": {
    "scrolled": true
   },
   "outputs": [
    {
     "data": {
      "text/html": [
       "<div>\n",
       "<style scoped>\n",
       "    .dataframe tbody tr th:only-of-type {\n",
       "        vertical-align: middle;\n",
       "    }\n",
       "\n",
       "    .dataframe tbody tr th {\n",
       "        vertical-align: top;\n",
       "    }\n",
       "\n",
       "    .dataframe thead th {\n",
       "        text-align: right;\n",
       "    }\n",
       "</style>\n",
       "<table border=\"1\" class=\"dataframe\">\n",
       "  <thead>\n",
       "    <tr style=\"text-align: right;\">\n",
       "      <th></th>\n",
       "      <th>index</th>\n",
       "      <th>local_us_id</th>\n",
       "      <th>reg_us_id</th>\n",
       "      <th>dt</th>\n",
       "      <th>utm_source</th>\n",
       "      <th>utm_medium</th>\n",
       "      <th>os</th>\n",
       "      <th>event</th>\n",
       "      <th>date</th>\n",
       "      <th>time</th>\n",
       "      <th>cnt_blocks</th>\n",
       "      <th>active_us</th>\n",
       "    </tr>\n",
       "  </thead>\n",
       "  <tbody>\n",
       "    <tr>\n",
       "      <th>7708</th>\n",
       "      <td>7708</td>\n",
       "      <td>4d59343b-abaa-40b6-b693-f1e7da558b74</td>\n",
       "      <td>62497d7bfeba900044e20ef9</td>\n",
       "      <td>2022-04-03 11:03:30</td>\n",
       "      <td>unknow</td>\n",
       "      <td>unknow</td>\n",
       "      <td>Windows</td>\n",
       "      <td>payment.success</td>\n",
       "      <td>2022-04-03</td>\n",
       "      <td>11:03:30</td>\n",
       "      <td>16.0</td>\n",
       "      <td>False</td>\n",
       "    </tr>\n",
       "  </tbody>\n",
       "</table>\n",
       "</div>"
      ],
      "text/plain": [
       "      index                           local_us_id                 reg_us_id  \\\n",
       "7708   7708  4d59343b-abaa-40b6-b693-f1e7da558b74  62497d7bfeba900044e20ef9   \n",
       "\n",
       "                      dt utm_source utm_medium       os            event  \\\n",
       "7708 2022-04-03 11:03:30     unknow     unknow  Windows  payment.success   \n",
       "\n",
       "            date      time  cnt_blocks  active_us  \n",
       "7708  2022-04-03  11:03:30        16.0      False  "
      ]
     },
     "execution_count": 47,
     "metadata": {},
     "output_type": "execute_result"
    }
   ],
   "source": [
    "df2[(df2['event'] == 'payment.success') &\n",
    "    (~df2['reg_us_id'].isin(funnel[funnel['event'] == 'payment.success']['reg_us_id']))]"
   ]
  },
  {
   "cell_type": "markdown",
   "id": "4d5f1fbf",
   "metadata": {},
   "source": [
    "Подтвердилось, чтобы избежать удаления нужных нам строчек будем группировать отдельно лендинг по локальному айди, и остальные ивенты по регистрационному айди"
   ]
  },
  {
   "cell_type": "code",
   "execution_count": 48,
   "id": "e9874f0f",
   "metadata": {},
   "outputs": [],
   "source": [
    "s1 = (df2[df2['event'] == 'landing.unique-visit'].sort_values(by='dt')\n",
    "                                             .groupby('local_us_id').agg({'index':'first'}))\n",
    "s2 = (df2[df2['event'] != 'landing.unique-visit'].sort_values(by='dt')\n",
    "                                             .groupby(['reg_us_id','event']).agg({'index':'first'}))\n",
    "ind2 = pd.concat([s1, s2])\n",
    "funnel_final = df2[df2['index'].isin(ind2['index'])]"
   ]
  },
  {
   "cell_type": "code",
   "execution_count": 49,
   "id": "2c8a7db3",
   "metadata": {
    "scrolled": true
   },
   "outputs": [
    {
     "data": {
      "text/plain": [
       "landing.unique-visit             7423\n",
       "register-confirm-code-success    1926\n",
       "editor.add.click                 1750\n",
       "payment.attempt                   128\n",
       "payment.success                    19\n",
       "Name: event, dtype: int64"
      ]
     },
     "execution_count": 49,
     "metadata": {},
     "output_type": "execute_result"
    }
   ],
   "source": [
    "funnel_final['event'].value_counts()"
   ]
  },
  {
   "cell_type": "code",
   "execution_count": 50,
   "id": "851ca923",
   "metadata": {
    "scrolled": true
   },
   "outputs": [
    {
     "name": "stdout",
     "output_type": "stream",
     "text": [
      "<class 'pandas.core.frame.DataFrame'>\n",
      "Int64Index: 11246 entries, 2 to 21743\n",
      "Data columns (total 12 columns):\n",
      " #   Column       Non-Null Count  Dtype         \n",
      "---  ------       --------------  -----         \n",
      " 0   index        11246 non-null  int64         \n",
      " 1   local_us_id  11246 non-null  object        \n",
      " 2   reg_us_id    3941 non-null   object        \n",
      " 3   dt           11246 non-null  datetime64[ns]\n",
      " 4   utm_source   11246 non-null  object        \n",
      " 5   utm_medium   11246 non-null  object        \n",
      " 6   os           11246 non-null  object        \n",
      " 7   event        11246 non-null  object        \n",
      " 8   date         11246 non-null  object        \n",
      " 9   time         11246 non-null  object        \n",
      " 10  cnt_blocks   3941 non-null   float64       \n",
      " 11  active_us    11246 non-null  bool          \n",
      "dtypes: bool(1), datetime64[ns](1), float64(1), int64(1), object(8)\n",
      "memory usage: 1.0+ MB\n"
     ]
    }
   ],
   "source": [
    "funnel_final.info()"
   ]
  },
  {
   "cell_type": "markdown",
   "id": "6d218f7c",
   "metadata": {},
   "source": [
    "Пользователи, у которых отсутствует ивент регистрации при наличии регистрационного кода, являются переходящими строками из предидущего месяца, тогда пользователь зарегистрировался, а сейчас вернулся, чтобы например опять протестировать функционал или купить платный аккаунт, если бы цель была, проанализировать воронку только за этот месяц, я бы их удалил, но по скольку речь про дашборд, в который должны по идее поступать полные данные, мы их оставим."
   ]
  },
  {
   "cell_type": "markdown",
   "id": "35862a8c",
   "metadata": {},
   "source": [
    "## Выгружаем датафрейм"
   ]
  },
  {
   "cell_type": "markdown",
   "id": "607dcfc4",
   "metadata": {},
   "source": [
    "Изменим название ивентов, чтобы они были более читабельными "
   ]
  },
  {
   "cell_type": "code",
   "execution_count": 51,
   "id": "b6bace22",
   "metadata": {},
   "outputs": [],
   "source": [
    "def ev_name(row):\n",
    "    if row == 'landing.unique-visit':\n",
    "        return 'Лендинг'\n",
    "    elif row == 'register-confirm-code-success':\n",
    "        return 'Регистрация'\n",
    "    elif row == 'editor.add.click':\n",
    "        return 'Добавление первого блока'\n",
    "    elif row == 'payment.attempt':\n",
    "        return 'Попытка оплаты'\n",
    "    else:\n",
    "        return 'Подтверждение оплаты'  "
   ]
  },
  {
   "cell_type": "code",
   "execution_count": 52,
   "id": "81d8f405",
   "metadata": {},
   "outputs": [
    {
     "data": {
      "text/plain": [
       "landing.unique-visit             7423\n",
       "register-confirm-code-success    1926\n",
       "editor.add.click                 1750\n",
       "payment.attempt                   128\n",
       "payment.success                    19\n",
       "Name: event, dtype: int64"
      ]
     },
     "execution_count": 52,
     "metadata": {},
     "output_type": "execute_result"
    }
   ],
   "source": [
    "funnel_final['event'].value_counts()"
   ]
  },
  {
   "cell_type": "code",
   "execution_count": 53,
   "id": "f95aee04",
   "metadata": {
    "scrolled": true
   },
   "outputs": [
    {
     "data": {
      "text/html": [
       "<div>\n",
       "<style scoped>\n",
       "    .dataframe tbody tr th:only-of-type {\n",
       "        vertical-align: middle;\n",
       "    }\n",
       "\n",
       "    .dataframe tbody tr th {\n",
       "        vertical-align: top;\n",
       "    }\n",
       "\n",
       "    .dataframe thead th {\n",
       "        text-align: right;\n",
       "    }\n",
       "</style>\n",
       "<table border=\"1\" class=\"dataframe\">\n",
       "  <thead>\n",
       "    <tr style=\"text-align: right;\">\n",
       "      <th></th>\n",
       "      <th>Источник трафика</th>\n",
       "      <th>Тип компании</th>\n",
       "      <th>ОС</th>\n",
       "      <th>Дата</th>\n",
       "      <th>Ивент</th>\n",
       "      <th>Статус активности</th>\n",
       "      <th>count</th>\n",
       "    </tr>\n",
       "  </thead>\n",
       "  <tbody>\n",
       "    <tr>\n",
       "      <th>2</th>\n",
       "      <td>unknow</td>\n",
       "      <td>unknow</td>\n",
       "      <td>Ubuntu</td>\n",
       "      <td>2022-04-15</td>\n",
       "      <td>Лендинг</td>\n",
       "      <td>False</td>\n",
       "      <td>1</td>\n",
       "    </tr>\n",
       "    <tr>\n",
       "      <th>7</th>\n",
       "      <td>unknow</td>\n",
       "      <td>unknow</td>\n",
       "      <td>iOS</td>\n",
       "      <td>2022-04-15</td>\n",
       "      <td>Регистрация</td>\n",
       "      <td>False</td>\n",
       "      <td>1</td>\n",
       "    </tr>\n",
       "    <tr>\n",
       "      <th>8</th>\n",
       "      <td>unknow</td>\n",
       "      <td>unknow</td>\n",
       "      <td>iOS</td>\n",
       "      <td>2022-04-15</td>\n",
       "      <td>Регистрация</td>\n",
       "      <td>True</td>\n",
       "      <td>1</td>\n",
       "    </tr>\n",
       "    <tr>\n",
       "      <th>9</th>\n",
       "      <td>unknow</td>\n",
       "      <td>unknow</td>\n",
       "      <td>iOS</td>\n",
       "      <td>2022-04-15</td>\n",
       "      <td>Регистрация</td>\n",
       "      <td>False</td>\n",
       "      <td>1</td>\n",
       "    </tr>\n",
       "    <tr>\n",
       "      <th>10</th>\n",
       "      <td>unknow</td>\n",
       "      <td>unknow</td>\n",
       "      <td>iOS</td>\n",
       "      <td>2022-04-15</td>\n",
       "      <td>Регистрация</td>\n",
       "      <td>False</td>\n",
       "      <td>1</td>\n",
       "    </tr>\n",
       "  </tbody>\n",
       "</table>\n",
       "</div>"
      ],
      "text/plain": [
       "   Источник трафика Тип компании      ОС        Дата        Ивент  \\\n",
       "2            unknow       unknow  Ubuntu  2022-04-15      Лендинг   \n",
       "7            unknow       unknow     iOS  2022-04-15  Регистрация   \n",
       "8            unknow       unknow     iOS  2022-04-15  Регистрация   \n",
       "9            unknow       unknow     iOS  2022-04-15  Регистрация   \n",
       "10           unknow       unknow     iOS  2022-04-15  Регистрация   \n",
       "\n",
       "    Статус активности  count  \n",
       "2               False      1  \n",
       "7               False      1  \n",
       "8                True      1  \n",
       "9               False      1  \n",
       "10              False      1  "
      ]
     },
     "execution_count": 53,
     "metadata": {},
     "output_type": "execute_result"
    }
   ],
   "source": [
    "final = funnel_final.copy(deep=True) \n",
    "final['event'] = final['event'].apply(ev_name)\n",
    "final = final[['utm_source', 'utm_medium', 'os', 'date', 'event', 'active_us']]\n",
    "final.columns = ['Источник трафика', 'Тип компании', 'ОС', 'Дата', 'Ивент', 'Статус активности']\n",
    "final['count'] = 1\n",
    "final.head()"
   ]
  },
  {
   "cell_type": "code",
   "execution_count": 54,
   "id": "546f06e7",
   "metadata": {},
   "outputs": [],
   "source": [
    "final.to_csv('final.csv')"
   ]
  },
  {
   "cell_type": "markdown",
   "id": "63bb4ce7",
   "metadata": {},
   "source": [
    "## Ответы на вопросы\n",
    "***Задача:***  Активация пользователей\n",
    "\n",
    "***Вопросы:*** \n",
    "\n",
    "**1. Как вы считаете, если сделать такой дашборд будет ли он полезен и будет ли он отвечать на поставленный вопрос?** \n",
    "\n",
    "\n",
    "Активация пользователей сложный процесс, который происходит в большей степени, как мне кажется на этапах перехода от регистрации к пользованию продукта и от использования, к оплате платной подписки в этом плане на воронке визуально будет хоршо видно, какие этапы в какой период времени западают. Также фильтры помогу выявлять подгруппы польлзователей с плохой конверсией и работать над ними. Этап перехода от лендинга к регистрации скорее вопрос изучения рекламных конверсии.\n",
    "\n",
    "\n",
    "**2. Можно ли его как-то улучшить? Если да, то как?** \n",
    "\n",
    "\n",
    "В дальнейшем можно добавить детализацию клиентского опыта взаимодействия с приложением на этапе добавления блоков: какими чаще всего пользуются, какие удаляют - это поможет улучшить продукт. "
   ]
  },
  {
   "cell_type": "markdown",
   "id": "a040c39c",
   "metadata": {},
   "source": [
    "## Ссылка на дашборд\n",
    "\n",
    "https://public.tableau.com/views/FunnelforWazzup/sheet3?:language=en-US&:display_count=n&:origin=viz_share_link"
   ]
  },
  {
   "cell_type": "markdown",
   "id": "7881392c",
   "metadata": {},
   "source": [
    "# Второе задание\n",
    "Напишите SQL запрос, который ответит на вопрос сколько и каких **типов** блоков в среднем находится на сайте в момент оплаты тарифа. Структура таблицы такая же, что в прошлом задании\n",
    "```\n",
    "WITH \"t1\" AS (\n",
    "SELECT reg_us_id, dt::date AS payment_date\n",
    "FROM \"SQL\" s \n",
    "WHERE \"event\" LIKE 'payment.success'),\n",
    "\n",
    "\"t2\" AS (\n",
    "SELECT reg_us_id, dt::date AS event_date, \n",
    "       count(CASE WHEN event = 'editor-messengers.save.click' THEN dt::date END) AS mes_save,\n",
    "       count(CASE WHEN event = 'editor-messengers.delete.click' THEN dt::date END) AS mes_del,\n",
    "       count(CASE WHEN event = 'editor-socials.save.click' THEN dt::date END) AS soc_save,\n",
    "       count(CASE WHEN event = 'editor-socials.delete.click' THEN dt::date END) AS soc_del\n",
    "FROM \"SQL\" s \n",
    "WHERE reg_us_id IS NOT NULL \n",
    "GROUP BY reg_us_id, event_date),\n",
    "\n",
    "\"t3\" AS (\n",
    "SELECT t1.payment_date,\n",
    "       sum(t2.mes_save) - sum(t2.mes_del) AS mes_count,\n",
    "       sum(t2.soc_save) - sum(t2.soc_del) AS soc_count\n",
    "FROM \"t1\" LEFT JOIN \"t2\" ON t1.reg_us_id=t2.reg_us_id\n",
    "WHERE t1.payment_date >= t2.event_date\n",
    "GROUP BY t1.payment_date)\n",
    "\n",
    "SELECT round(avg(mes_count), 2) AS mes_avg,\n",
    "       round(avg(soc_count), 2) AS soc_avg,\n",
    "\t   round(avg(mes_count + soc_count), 2) AS total_avg\n",
    "FROM \"t3\"\n",
    "\t   \n",
    "```\n",
    "\n",
    "Не добавлял все блоки через оператор CASE, чтобы не нагромождать код, продемонстрировал сам способ решения задачи.\n",
    "Для подсчета использовал столбцы приведенные ниже."
   ]
  },
  {
   "cell_type": "code",
   "execution_count": 55,
   "id": "5b0cdc7b",
   "metadata": {},
   "outputs": [
    {
     "data": {
      "text/html": [
       "<div>\n",
       "<style scoped>\n",
       "    .dataframe tbody tr th:only-of-type {\n",
       "        vertical-align: middle;\n",
       "    }\n",
       "\n",
       "    .dataframe tbody tr th {\n",
       "        vertical-align: top;\n",
       "    }\n",
       "\n",
       "    .dataframe thead th {\n",
       "        text-align: right;\n",
       "    }\n",
       "</style>\n",
       "<table border=\"1\" class=\"dataframe\">\n",
       "  <thead>\n",
       "    <tr style=\"text-align: right;\">\n",
       "      <th></th>\n",
       "      <th>reg_us_id</th>\n",
       "      <th>dt</th>\n",
       "      <th>event</th>\n",
       "    </tr>\n",
       "  </thead>\n",
       "  <tbody>\n",
       "    <tr>\n",
       "      <th>3</th>\n",
       "      <td>621f862dddf4bc00444bbb0c</td>\n",
       "      <td>2022-04-15 11:35:58</td>\n",
       "      <td>editor.add.click</td>\n",
       "    </tr>\n",
       "    <tr>\n",
       "      <th>4</th>\n",
       "      <td>621f862dddf4bc00444bbb0c</td>\n",
       "      <td>2022-04-15 11:36:11</td>\n",
       "      <td>editor.add.click</td>\n",
       "    </tr>\n",
       "    <tr>\n",
       "      <th>5</th>\n",
       "      <td>621f862dddf4bc00444bbb0c</td>\n",
       "      <td>2022-04-15 11:36:37</td>\n",
       "      <td>payment.unsubscribe</td>\n",
       "    </tr>\n",
       "    <tr>\n",
       "      <th>8</th>\n",
       "      <td>6259aeca6a4d5800458f65fc</td>\n",
       "      <td>2022-04-15 17:43:38</td>\n",
       "      <td>register-confirm-code-success</td>\n",
       "    </tr>\n",
       "    <tr>\n",
       "      <th>9</th>\n",
       "      <td>6259b2c16a4d5800458f6a7d</td>\n",
       "      <td>2022-04-15 18:00:33</td>\n",
       "      <td>register-confirm-code-success</td>\n",
       "    </tr>\n",
       "  </tbody>\n",
       "</table>\n",
       "</div>"
      ],
      "text/plain": [
       "                  reg_us_id                  dt                          event\n",
       "3  621f862dddf4bc00444bbb0c 2022-04-15 11:35:58               editor.add.click\n",
       "4  621f862dddf4bc00444bbb0c 2022-04-15 11:36:11               editor.add.click\n",
       "5  621f862dddf4bc00444bbb0c 2022-04-15 11:36:37            payment.unsubscribe\n",
       "8  6259aeca6a4d5800458f65fc 2022-04-15 17:43:38  register-confirm-code-success\n",
       "9  6259b2c16a4d5800458f6a7d 2022-04-15 18:00:33  register-confirm-code-success"
      ]
     },
     "execution_count": 55,
     "metadata": {},
     "output_type": "execute_result"
    }
   ],
   "source": [
    "df[~df['reg_us_id'].isna()][['reg_us_id', 'dt', 'event']].head()"
   ]
  }
 ],
 "metadata": {
  "kernelspec": {
   "display_name": "Python 3 (ipykernel)",
   "language": "python",
   "name": "python3"
  },
  "language_info": {
   "codemirror_mode": {
    "name": "ipython",
    "version": 3
   },
   "file_extension": ".py",
   "mimetype": "text/x-python",
   "name": "python",
   "nbconvert_exporter": "python",
   "pygments_lexer": "ipython3",
   "version": "3.9.7"
  },
  "toc": {
   "base_numbering": 1,
   "nav_menu": {},
   "number_sections": true,
   "sideBar": true,
   "skip_h1_title": false,
   "title_cell": "Table of Contents",
   "title_sidebar": "Contents",
   "toc_cell": false,
   "toc_position": {
    "height": "calc(100% - 180px)",
    "left": "10px",
    "top": "150px",
    "width": "336px"
   },
   "toc_section_display": true,
   "toc_window_display": true
  }
 },
 "nbformat": 4,
 "nbformat_minor": 5
}
